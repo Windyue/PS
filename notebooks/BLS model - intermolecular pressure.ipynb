{
 "cells": [
  {
   "cell_type": "markdown",
   "metadata": {},
   "source": [
    "# Bilayer Sonophore model: computation of intermolecular pressure"
   ]
  },
  {
   "cell_type": "markdown",
   "metadata": {},
   "source": [
    "### Imports"
   ]
  },
  {
   "cell_type": "code",
   "execution_count": 1,
   "metadata": {},
   "outputs": [],
   "source": [
    "import logging\n",
    "import numpy as np\n",
    "import matplotlib.pyplot as plt\n",
    "\n",
    "from PySONIC.utils import logger, rmse, rsquared\n",
    "from PySONIC.neurons import getPointNeuron\n",
    "from PySONIC.core import BilayerSonophore, PmCompMethod\n",
    "from PySONIC.constants import *\n",
    "\n",
    "# Set logging level\n",
    "logger.setLevel(logging.INFO)"
   ]
  },
  {
   "cell_type": "markdown",
   "metadata": {},
   "source": [
    "### Functions"
   ]
  },
  {
   "cell_type": "code",
   "execution_count": 2,
   "metadata": {},
   "outputs": [],
   "source": [
    "def plotPmavg(bls, Z, fs=15):\n",
    "    fig, ax = plt.subplots(figsize=(5, 3))\n",
    "    for skey in ['right', 'top']:\n",
    "        ax.spines[skey].set_visible(False)\n",
    "    ax.set_xlabel('Z (nm)', fontsize=fs)\n",
    "    ax.set_ylabel('Pressure (kPa)', fontsize=fs)\n",
    "    ax.set_xticks([0, bls.a * 1e9])\n",
    "    ax.set_xticklabels(['0', 'a'])\n",
    "    ax.set_yticks([-10, 0, 40])\n",
    "    ax.set_ylim([-10, 50])\n",
    "    for item in ax.get_xticklabels() + ax.get_yticklabels():\n",
    "        item.set_fontsize(fs)\n",
    "    ax.plot(Z * 1e9, bls.v_PMavg(Z, bls.v_curvrad(Z), bls.surface(Z)) * 1e-3, label='$P_m$')\n",
    "    ax.plot(Z * 1e9, bls.PMavgpred(Z) * 1e-3, label='$P_{m,approx}$')\n",
    "    ax.axhline(y=0, color='k')\n",
    "    ax.legend(fontsize=fs, frameon=False)\n",
    "    fig.tight_layout()\n",
    "\n",
    "def plotZprofiles(bls, f, A, Q, fs=15):\n",
    "    # Run simulation with integrated intermolecular pressure\n",
    "    data, _ = bls.simulate(f, A, Qm, Pm_comp_method=PmCompMethod.direct)\n",
    "    Z1 = data.loc[-NPC_FULL:, 'Z'].values * 1e9  # nm\n",
    "\n",
    "    # Run simulation with predicted intermolecular pressure\n",
    "    data, _ = bls.simulate(f, A, Qm, Pm_comp_method=PmCompMethod.predict)\n",
    "    Z2 = data.loc[-NPC_FULL:, 'Z'].values * 1e9  # nm\n",
    "    \n",
    "    # Plot figure    \n",
    "    t = np.linspace(0, 1 / f, NPC_FULL) * 1e6  # us\n",
    "    fig, ax = plt.subplots(figsize=(5, 3))\n",
    "    for skey in ['right', 'top']:\n",
    "        ax.spines[skey].set_visible(False)\n",
    "    ax.set_xlabel('time (us)', fontsize=fs)\n",
    "    ax.set_ylabel('Deflection (nm)', fontsize=fs)\n",
    "    ax.set_xticks([t[0], t[-1]])\n",
    "    for item in ax.get_xticklabels() + ax.get_yticklabels():\n",
    "        item.set_fontsize(fs)\n",
    "    \n",
    "    ax.plot(t, Z1, label='$P_m$')\n",
    "    ax.plot(t, Z2, label='$P_{m,approx}$')\n",
    "    ax.axhline(y=0, color='k')\n",
    "    ax.legend(fontsize=fs, frameon=False)\n",
    "    fig.tight_layout()\n",
    "    \n",
    "    return fig, Z1, Z2 "
   ]
  },
  {
   "cell_type": "markdown",
   "metadata": {},
   "source": [
    "### Parameters"
   ]
  },
  {
   "cell_type": "code",
   "execution_count": 3,
   "metadata": {},
   "outputs": [],
   "source": [
    "pneuron = getPointNeuron('RS')\n",
    "bls = BilayerSonophore(32e-9, pneuron.Cm0, pneuron.Qm0)\n",
    "f = 500e3\n",
    "A = 100e3\n",
    "Qm = pneuron.Qm0"
   ]
  },
  {
   "cell_type": "markdown",
   "metadata": {},
   "source": [
    "### Profiles comparison over deflection range "
   ]
  },
  {
   "cell_type": "code",
   "execution_count": 4,
   "metadata": {},
   "outputs": [
    {
     "data": {
      "image/png": "[encoded data removed]",
      "text/plain": [
       "<matplotlib.figure.Figure at 0x20efe1fd668>"
      ]
     },
     "metadata": {
      "needs_background": "light"
     },
     "output_type": "display_data"
    }
   ],
   "source": [
    "Z = np.linspace(-0.4 * bls.Delta_, bls.a, 1000)\n",
    "fig = plotPmavg(bls, Z)"
   ]
  },
  {
   "cell_type": "markdown",
   "metadata": {},
   "source": [
    "### Error quantification over a typical acoustic cycle"
   ]
  },
  {
   "cell_type": "code",
   "execution_count": 5,
   "metadata": {},
   "outputs": [
    {
     "name": "stdout",
     "output_type": "stream",
     "text": [
      "Z-error: R2 = 0.9996, RMSE = 0.0454 nm (0.8212% dZ)\n"
     ]
    },
    {
     "data": {
      "image/png": "[encoded data removed]",
      "text/plain": [
       "<matplotlib.figure.Figure at 0x20efe343278>"
      ]
     },
     "metadata": {
      "needs_background": "light"
     },
     "output_type": "display_data"
    }
   ],
   "source": [
    "fig, Z1, Z2 = plotZprofiles(bls, f, A, Qm)\n",
    "error_Z = rmse(Z1, Z2)\n",
    "r2_Z = rsquared(Z1, Z2)\n",
    "print('Z-error: R2 = {:.4f}, RMSE = {:.4f} nm ({:.4f}% dZ)'.format(\n",
    "    r2_Z, error_Z, error_Z / (Z1.max() - Z1.min()) * 1e2))"
   ]
  }
 ],
 "metadata": {
  "kernelspec": {
   "display_name": "Python 3",
   "language": "python",
   "name": "python3"
  },
  "language_info": {
   "codemirror_mode": {
    "name": "ipython",
    "version": 3
   },
   "file_extension": ".py",
   "mimetype": "text/x-python",
   "name": "python",
   "nbconvert_exporter": "python",
   "pygments_lexer": "ipython3",
   "version": "3.6.4"
  }
 },
 "nbformat": 4,
 "nbformat_minor": 2
}
